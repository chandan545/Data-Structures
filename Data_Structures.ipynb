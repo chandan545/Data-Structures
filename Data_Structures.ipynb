{
  "nbformat": 4,
  "nbformat_minor": 0,
  "metadata": {
    "colab": {
      "provenance": []
    },
    "kernelspec": {
      "name": "python3",
      "display_name": "Python 3"
    },
    "language_info": {
      "name": "python"
    }
  },
  "cells": [
    {
      "cell_type": "markdown",
      "source": [
        "##Data Types and Structures Questions"
      ],
      "metadata": {
        "id": "-v9fwMB3C0xm"
      }
    },
    {
      "cell_type": "markdown",
      "source": [
        "1. What are data structures, and why are they important?\n",
        "   - Data structures are a specific way of organizing data in a specialized format on a computer so that the information can be organized, processed, stored, and retrieved quickly and effectively.\n",
        "   - Every application, piece of software, or programs foundation consists of two components: algorithms and data. Data is information, and algorithms are rules and instructions that turn the data into something useful to programming.\n",
        "\n",
        "   Data structures are important because they:\n",
        "   - Make code more efficient: Data structures help computers run code faster   by organizing data in a way that's easy to process. For example, a linked list can quickly add or remove items without searching through an entire array of data.\n",
        "   - Help solve complex problems: Data structures provide efficient algorithms for operations like sorting, searching, and manipulating data.\n",
        "   - Improve memory management: Data structures help reduce memory leaks and optimize resource allocation.\n",
        "   - Enable code reusability: Well-designed data structures can be reused across different projects.\n",
        "   - Help with algorithm design: Choosing the right data structure can make algorithm development and optimization more straightforward.\n",
        "   - Are important for data science and data analysis: Data structures are used to store and access data in data science and data analysis work.\n",
        "   - Help build and understand complex problems in machine learning: Data structures help build and understand the complex algorithms used in machine learning.\n",
        "\n",
        "2. Explain the difference between mutable and immutable data types with\n",
        "   examples.\n",
        "   - Mutable data type - A mutable data type is one whose values can be changed.\n",
        "     - Examples: List, Dictionaries, and Set\n",
        "   - Immutable data type - An immutable data type is one in which the values\n",
        "     can't be changed or altered.\n",
        "      - Examples: String and Tuples\n",
        "\n",
        "3. What are the main differences between lists and tuples in Python?\n",
        "   - Lists\n",
        "     - Lists are mutable.\n",
        "     - The implication of iterations is Time-consuming.\n",
        "     - The list is better for performing operations, such as insertion and\n",
        "       deletion.\n",
        "     - Lists consumes more memory.\n",
        "     - Lists have several built-in methods.\n",
        "     - Unexpected changes and errors are more likely to occur.\n",
        "\n",
        "   - Tuples\n",
        "     - Tuples are immutable.\n",
        "     - The implication of iterations is comparatively Faster.\n",
        "     - A tuple data type is appropriate for accessing elements.\n",
        "     - Tuple consumes less memory as compared to the list.\n",
        "     - Tuple does not have many built-in methods.\n",
        "     - Because tuples don't change they are far less error-prone.\n",
        "  \n",
        "4. Describe how dictionaries store data.\n",
        "    - Dictionaries are used to store data in key:values pairs.\n",
        "    - A dictionary is a collection which is ordered, changeable and do not allow\n",
        "      duplicates.\n",
        "      - Example:\n",
        "            country_capitals = {'Germany':'Berlin', 'England':'London', 'India':'New Delhi'}\n",
        "\n",
        "5. Why might you use a set instead of a list in python?\n",
        "   - Uniqueness: A set automatically ensures that all elements are unique. If you need to store a collection of items where duplicates are not allowed, a set is the best choice.\n",
        "   - Fast membership testing: Sets offer fast membership tests(using the 'in' operation) than lists because they are implemented as hash tables. This makes them ideal when you need to quickly check if an item is present.\n",
        "   - Set operations: Sets support mathematical set operations like union, intersection, difference, and symmetric difference, which can be useful for tasks like removing duplicates or finding common elements between collections.\n",
        "   - Order not important: Unlike lists, sets do not maintain the order of elements. If you don't care about the order and just need to store unique items, a set is a good choice.\n",
        "   - Efficiency with large collections: Sets generally perform better than lists when performing operations like checking for membership, adding, and removing elements, especially with larger datasets.\n",
        "\n",
        "   When to avoid using a set:\n",
        "     - If you need to maintain the order of elements.\n",
        "     - If you need to store duplicate values, as sets do not allow duplicates.\n",
        "     - If you need to index elements by position, as sets do not support indexing.\n",
        "\n",
        "6. What is a string in Python, and how is it different from a list?\n",
        "  - In Python, a string is a sequence of characters enclosed in single quotes (') or double quotes (\"). Strings are immutable, meaning their contents cannot be changed after they are created.\n",
        "  Key Characteristics of a string:\n",
        "     - Immutable: Once a string is created, you cannot change its individual characters. Any operation that modifies a string actually creates a new string.\n",
        "     - Sequence of characters: A string is essentially a sequence of characters, which can include letters, numbers, punctuation, and special characters.\n",
        "     - Supports indexing and slicing: You can access individual characters or substrings using indexing or slicing.\n",
        "     - Can be concatenated: Strings can be joined together using the + operator.\n",
        "  - Difference between a string and a list:\n",
        "     - Mutability:\n",
        "       - String: Immutable. Once a string is created, you cannot modify its individual characters.\n",
        "       - List: Mutable. You can modify, add, or remove elements from a list.\n",
        "     - Element Types:\n",
        "       - String: A string can only contain characters(letters, numbers, symbols, etc.)\n",
        "       - List: A list can contain elements of any data type, including integers, strings, and other lists.\n",
        "     - Indexing and Slicing:\n",
        "       - Both strings and lists support indexing and slicing, but the elements in a string are characters, while in a list, the elements can be any type of object.\n",
        "     - Operations:\n",
        "       - String: You can perform string-specific operations, like string concatenation(+), repetition(*), and string methods like .upper(), .lower(), .split(),etc.\n",
        "       - List: Lists support operations like appending, removing, and modifying elements. List also support methods like .append(), .remove(), .extend(), etc.\n",
        "\n",
        "7. How do tuples ensure data integrity in Python?\n",
        "   - In Python, tuples are a type of data structure that ensure data integrity primarily through their immutabilty.\n",
        "   \n",
        "   Immutabilty:\n",
        "   - Once a tuple is created, its contents cannot be changed. This means you cannot modify, add or remove elements from a tuple after it is initialized.\n",
        "   \n",
        "   Preventing Unintentional Changes:\n",
        "   - Since tuples are immutable, their values cannot be accidently modified. This is particulary useful in situations where you need to ensure that a collection of data remains constant throughout the lifetime of the program.\n",
        "   - This guarantess that the integrity of the data is prevented, which is especially important in cases where the data represent fixed values, such as coordinates, configuration settings, or function return values.\n",
        "\n",
        "   Hashability:\n",
        "   - Tuples are hashable (as long as all their elements are hashable), which means they can be used as keys in dictionaries or added to sets. This also helps with data integrity in cases where tuples are used as part of a data structure that relies on immutability for correctness (like a dictionary key).\n",
        "\n",
        "   Security and Predictability:\n",
        "   - In cases where data integrity is crucial, such as in the context of\n",
        "     cryptographic algorithms or financial applications, using tuples ensures that the data cannot be altered during its processing.\n",
        "   - This makes the data more predictable, secure, and reliable, as no external\n",
        "     code can accidentally or maliciously modify the tuple values.\n",
        "\n",
        "8. What is a hash table, and how does it relate to dictionaries in Python?\n",
        "   - A hash table is a data structure that stores key-value pairs and uses a hash function to compute an index (or hash) where the corresponding value is stored. Hash tables are designed to provide efficient lookups, insertions, and deletions.\n",
        "\n",
        "   How Hash Tables Relate to Python Dictionaries:\n",
        "   - Key-Value Pairs: Just like a hash table, Python dictionaries store data as key-value pairs. The keys are hashed using Python's internal hash function to determine where in memory the value is stored.\n",
        "   - Hashing Keys: When you use a key to access a value in a dictionary, Python calculates the hash of the key and uses that hash to quickly find the value in the hash table.\n",
        "   - Efficiency: Because Python dictionaries use hash tables, they provide efficient lookups and updates. On average, the time complexity of these operations is O(1).\n",
        "   - Handling Collisions: Python's dictionary implementation uses an optimized version of open addressing to handle collisions, meaning that even if two keys hash to the same value, the dictionary will still be able to store and retrieve values efficiently.\n",
        "   - Mutable and Dynamic: Unlike some other languages' hash table implementations, Python dictionaries are dynamic, meaning they can resize themselves as the number of items grows. This ensures that the dictionary continues to perform well even as it grows in size.\n",
        "\n",
        "9. Can lists contain different data types in Python?\n",
        "   - Yes, in Python, lists can contain different data types. Unlike arrays in some other languages, Python lists are heterogeneous, meaning they can store elements of any type, including integers, strings, floats, objects, or even other lists.\n",
        "     Example:\n",
        "       \n",
        "                list1 = [42, \"Hello\", 3.14, True, [1, 2, 3]]\n",
        "\n",
        "                print(list1)\n",
        "\n",
        "10. Explain why strings are immutable in Python.\n",
        "    - Strings are immutable in Python because once a string is created, its\n",
        "      value cannot be changed.\n",
        "      Here's why:\n",
        "      - Efficiency: Python reuses the same string in memory to save space. If strings were mutable, changing one string could accidently change others that are the same, which would cause errors.\n",
        "      - Consistency: Since strings can't be changed, you can be sure that their values stays the same throughout your program. This makes debugging easier.\n",
        "      - Use in Dictionaries: Strings are often used as keys in dictionaries. For this to work correctly, their value must stay the same(since dictionaries use the string's value to find the key). If strings were mutable, changing them would cause problems.\n",
        "\n",
        "11. What advantages do dictionaries offer over lists for certain tasks?\n",
        "    - Faster Lookups: Dictionaries allow you to look up a value based on a key in constant time (O(1)), meaning the search time doesn't depend on the size of the data.\n",
        "    - Key-Value Storage: Dictionaries store data as key-value pairs (like name: grade). This makes it easy to organize and retrieve related information.\n",
        "    - No Duplicate Keys: Dictionaries ensure that each key is unique. If you try to add the same key again, it just updates the existing value.\n",
        "    - Easier Updates: With dictionaries, you can easily add, update, or remove data using the key.\n",
        "    - No Need for Indexing: In dictionaries, you access values using keys, so you don’t need to know the index. This is more straightforward than lists, where you need to work with indices.\n",
        "    - Flexible Data Types: Dictionaries can store any kind of data as both keys and values (numbers, strings, lists, etc.), making them flexible for complex tasks.\n",
        "      \n",
        "      In short, dictionaries are great when you need quick access to data by a key, while lists are better when the order of elements matters and you just need a collection of items.\n",
        "\n",
        "12. Describe a scenario where using a tuple would be preferable over a list.\n",
        "    - A tuple is better than a list when you need to store data that should not change. Tuples are immutable, meaning once created, their values cannot be altered.\n",
        "     \n",
        "       - Example Scenario: Storing Coordinates.\n",
        "     Imagine you're tracking the coordinates of a location (latitude and longitude). Once you set the coordinates, they should stay the same throughout the program.\n",
        "\n",
        "                coordinates = (20.5937, 78.9629)\n",
        "\n",
        "                print(coordinates)\n",
        "\n",
        "13. How do sets handle duplicate values in Python?\n",
        "    - In Python, sets automatically ignore duplicates. If you try to add a duplicate item to a set, it won’t be added again.\n",
        "\n",
        "      - No duplicates: Sets only store unique values.\n",
        "      - Unordered: The order of items in a set doesn’t matter.\n",
        "        \n",
        "               set = {1, 2, 3}\n",
        "\n",
        "               set.add(2)\n",
        "\n",
        "               print(set)\n",
        "\n",
        "               output: {1, 2, 3}\n",
        "\n",
        "14. How does the “in” keyword work differently for lists and dictionaries?\n",
        "    - The \"in\" keyword works differently for lists and dictionaries in Python, depending on whether you are checking for values or keys.\n",
        "\n",
        "     - For lists:\n",
        "       When you use the \"in\" keyword with a list, it checks whether a value is present in the list.\n",
        "\n",
        "            list1 = [1, 2, 3, 4]\n",
        "\n",
        "            print(3 in list1)  # Output: True  (checks if the value 3 is in the list)\n",
        "\n",
        "            print(5 in list1)  # Output: False (checks if the value 5 is in the list)\n",
        "\n",
        "     - For Dictionaries:\n",
        "       When you use the \"in\" keyword with a dictionary, it checks for the presence of keys, not values.\n",
        "\n",
        "            dict1 = {\"a\": 1, \"b\": 2, \"c\": 3}\n",
        "\n",
        "            print(\"a\" in dict1)  # Output: True  (checks if the key 'a' is in the dictionary)\n",
        "\n",
        "            print(1 in dict1)    # Output: False (checks if the key 1 is in the dictionary, not the value)\n",
        "\n",
        "15. Can you modify the elements of a tuple? Explain why or why not.\n",
        "    - No, you cannot modify the elements of a tuple because tuples are\n",
        "      immutable. Once a tuple is created, its values cannot be changed.\n",
        "    \n",
        "    - If you need to change elements, you should use a list instead of a tuple.\n",
        "\n",
        "    - Tuples cannot be changed once created, so use them when you need constant data. For changeable data, use lists.\n",
        "\n",
        "16. What is a nested dictionary, and give an example of its use case?\n",
        "    - A nested dictionary in Python is a dictionary where the value of a key is another dictionary. This allows you to store complex data structures where each key-value pair can itself contain another dictionary.\n",
        "\n",
        "       Example:\n",
        "\n",
        "             students = {\"Chandan\": {\"age\": 25,\"subjects\": {\"Math\": 90, \"Science\":\n",
        "             85}}, \"Raghav\": {\"age\": 24,\"subjects\": {\"Math\": 80,\"Science\": 88}}}\n",
        "\n",
        "             print(students[\"Chandan\"][\"age\"])  # Output: 20\n",
        "\n",
        "             print(students[\"Raghav\"][\"subjects\"][\"Math\"])  # Output: 80\n",
        "\n",
        "17. Describe the time complexity of accessing elements in a dictionary.\n",
        "    - In Python, accessing elements in a dictionary is usually very fast, with  \n",
        "      a time complexity of O(1). This means that no matter how large the dictionary is, looking up a value by its key takes roughly the same amount of time.\n",
        "    - Python uses a hash table to store dictionaries, which allows it to  \n",
        "      quickly find the value associated with a key by calculating its position using a hash.\n",
        "\n",
        "          fruits = {\"apple\": 1, \"banana\": 2, \"cherry\": 3}\n",
        "\n",
        "          print(fruits[\"banana\"])  # Output: 2\n",
        "\n",
        "18. In what situations are lists preferred over dictionaries?\n",
        "    - Lists are preferred over dictionaries when:\n",
        "      - Order matters: Lists keep the order of items, so you can access them in the same sequence they were added.\n",
        "        Example: A list of taks to do in order.\n",
        "\n",
        "               tasks = [\"studying\", \"playing\"]\n",
        "\n",
        "      - You have multiple similar items: Lists are good for storing many items of the same type, like numbers or names.\n",
        "        Example: A list of numbers.\n",
        "         \n",
        "               numbers = [10, 20, 30]\n",
        "\n",
        "      - When you need to access element by position: You can use the index to get a specific item.\n",
        "        Example: Get the first item in a list.\n",
        "\n",
        "               list1 = [1, 2, 3]\n",
        "\n",
        "               print(list1[0])      #output: 1\n",
        "\n",
        "      - Duplicates are allowed: Lists allow the same item to appear more than once.\n",
        "        Example: A list with duplicate names.\n",
        "\n",
        "               name = [\"Chandan\", \"Raghav\", \"Chandan\"]\n",
        "\n",
        "19. Why are dictionaries considered unordered, and how does that affect data\n",
        "  retrieval?\n",
        "    - Dictionaries in Python are unordered because they use hash tables to store key-value pairs. The order in which items are added doesn't affect how they are stored, so the items are not kept in any specific order.\n",
        "\n",
        "     How This Affects Data Retrieval:\n",
        "    - Access by key: You can still access values quickly using their keys, and the order doesn't matter.\n",
        "\n",
        "          dict1 = {\"apple\": 1, \"banana\": 2}\n",
        "\n",
        "          print(dict1[\"banana\"])  # Output: 2\n",
        "\n",
        "    - Iteration order: When looping through a dictionary, the order items may not be the same as when they were added.\n",
        "\n",
        "          dict1 = {\"apple\": 1, \"banana\": 2}\n",
        "          for key in dict1:\n",
        "          print(key)\n",
        "          # Output could be in any order.\n",
        "\n",
        "20. Explain the difference between a list and a dictionary in terms of data\n",
        "  retrieval.\n",
        "    - The main difference between a list and a dictionary in terms of data retrieval is how you access the data and what you use to access it:\n",
        "\n",
        "      List:\n",
        "        - Access by index: You retrieve items in a list using their 'index'\n",
        "          (position).\n",
        "        - Order matters: Lists maintains the order of elements, so you can access them in the sequence they were added.\n",
        "        - Data type: Lists store ordered collections of items, and the items can be of any data type.\n",
        "\n",
        "               numbers = [10, 20, 30]\n",
        "           \n",
        "               print(numbers[1])  # Output: 20  (Access by index)\n",
        "\n",
        "      Dictionary:\n",
        "         - Access by key: You retrieve items in a dictionary using a 'key', not an index.\n",
        "         - No specific order: Dictionaries are unordered collections (in earlier versions of Python), meaning the order of items doesn't matter. However, as of Python 3.7+, dictionaries preserve insertion order, but data is still accessed by key.\n",
        "         - Data type: Dictionaries store key-value pairs, where each key is unique.\n",
        "\n",
        "                dict1 = {\"apple\": 1, \"banana\": 2}\n",
        "\n",
        "                print(dict1[\"banana\"])  # Output: 2  (Access by key)\n",
        "\n",
        "\n",
        "  \n",
        "\n",
        "\n",
        "\n",
        "    \n",
        "\n",
        "\n",
        "\n",
        "\n",
        "\n",
        "\n"
      ],
      "metadata": {
        "id": "efm0FhEcC-R0"
      }
    },
    {
      "cell_type": "markdown",
      "source": [
        "### Practical Questions"
      ],
      "metadata": {
        "id": "XshPKnzRDsQQ"
      }
    },
    {
      "cell_type": "code",
      "source": [
        "#1. Write a code to create a string with your name and print it.\n",
        "#ans.\n",
        "name = \"Chandan Singh\"\n",
        "print(name)"
      ],
      "metadata": {
        "colab": {
          "base_uri": "https://localhost:8080/"
        },
        "id": "tlMueVbPDtud",
        "outputId": "7a7674b9-aa7a-406a-96b7-dfa1ebf61732"
      },
      "execution_count": 1,
      "outputs": [
        {
          "output_type": "stream",
          "name": "stdout",
          "text": [
            "Chandan Singh\n"
          ]
        }
      ]
    },
    {
      "cell_type": "code",
      "source": [
        "#2. Write a code to find the length of the string \"Hello World\".\n",
        "#ans.\n",
        "print(len(\"Hello world\"))"
      ],
      "metadata": {
        "colab": {
          "base_uri": "https://localhost:8080/"
        },
        "id": "nTirnuHBEpNN",
        "outputId": "bff0e7e9-638e-487b-d9de-c5a3db258468"
      },
      "execution_count": 2,
      "outputs": [
        {
          "output_type": "stream",
          "name": "stdout",
          "text": [
            "11\n"
          ]
        }
      ]
    },
    {
      "cell_type": "code",
      "source": [
        "#3. Write a code to slice the first 3 characters from the string \"Python Programming\".\n",
        "#ans.\n",
        "print(\"Python Programming\"[:3])"
      ],
      "metadata": {
        "colab": {
          "base_uri": "https://localhost:8080/"
        },
        "id": "6I3J9dvsFOTw",
        "outputId": "5af9a2df-c5ad-4772-981a-f569d21c310d"
      },
      "execution_count": 3,
      "outputs": [
        {
          "output_type": "stream",
          "name": "stdout",
          "text": [
            "Pyt\n"
          ]
        }
      ]
    },
    {
      "cell_type": "code",
      "source": [
        "#4. Write a code to convert the string \"hello\" to uppercase.\n",
        "#ans.\n",
        "print(\"hello\".upper())"
      ],
      "metadata": {
        "colab": {
          "base_uri": "https://localhost:8080/"
        },
        "id": "blr7ArrmFz1U",
        "outputId": "f4cf477a-3462-4d46-e828-e035e8a4ebaf"
      },
      "execution_count": 4,
      "outputs": [
        {
          "output_type": "stream",
          "name": "stdout",
          "text": [
            "HELLO\n"
          ]
        }
      ]
    },
    {
      "cell_type": "code",
      "source": [
        "#5. Write a code to replace the word \"apple\" with \"orange\" in the string \"I like apple\".\n",
        "#ans.\n",
        "print(\"I like apple\".replace(\"apple\", \"orange\"))"
      ],
      "metadata": {
        "colab": {
          "base_uri": "https://localhost:8080/"
        },
        "id": "eDzt87YdGIzr",
        "outputId": "665a07d9-d2a1-4022-c49d-ff39f2128de0"
      },
      "execution_count": 5,
      "outputs": [
        {
          "output_type": "stream",
          "name": "stdout",
          "text": [
            "I like orange\n"
          ]
        }
      ]
    },
    {
      "cell_type": "code",
      "source": [
        "#6. Write a code to create a list with numbers 1 to 5 and print it.\n",
        "#ans.\n",
        "numbers = [1, 2, 3, 4, 5]\n",
        "print(numbers)"
      ],
      "metadata": {
        "colab": {
          "base_uri": "https://localhost:8080/"
        },
        "id": "eAHwvNmFGnkZ",
        "outputId": "ac26ce55-ef5b-44cc-8c9d-0bcf320bf188"
      },
      "execution_count": 6,
      "outputs": [
        {
          "output_type": "stream",
          "name": "stdout",
          "text": [
            "[1, 2, 3, 4, 5]\n"
          ]
        }
      ]
    },
    {
      "cell_type": "code",
      "source": [
        "#7. Write a code to append the number 10 to the list [1, 2, 3, 4].\n",
        "#ans.\n",
        "numbers = [1, 2, 3, 4]\n",
        "numbers.append(10)\n",
        "print(numbers)"
      ],
      "metadata": {
        "colab": {
          "base_uri": "https://localhost:8080/"
        },
        "id": "7X_5KQC1HBlO",
        "outputId": "9697ca00-6eef-4ece-b5aa-e5d7c6880553"
      },
      "execution_count": 7,
      "outputs": [
        {
          "output_type": "stream",
          "name": "stdout",
          "text": [
            "[1, 2, 3, 4, 10]\n"
          ]
        }
      ]
    },
    {
      "cell_type": "code",
      "source": [
        "#8. Write a code to remove the number 3 from the list [1, 2, 3, 4, 5].\n",
        "#ans.\n",
        "numbers = [1, 2, 3, 4, 5]\n",
        "numbers.remove(3)\n",
        "print(numbers)"
      ],
      "metadata": {
        "colab": {
          "base_uri": "https://localhost:8080/"
        },
        "id": "MkSe5ESHHhAE",
        "outputId": "dfc63222-c6f5-4c85-b893-4eb5899d8bd5"
      },
      "execution_count": 8,
      "outputs": [
        {
          "output_type": "stream",
          "name": "stdout",
          "text": [
            "[1, 2, 4, 5]\n"
          ]
        }
      ]
    },
    {
      "cell_type": "code",
      "source": [
        "#9. Write a code to access the second element in the list ['a', 'b', 'c', 'd'].\n",
        "#ans.\n",
        "list = ['a', 'b', 'c', 'd']\n",
        "list[1]"
      ],
      "metadata": {
        "colab": {
          "base_uri": "https://localhost:8080/",
          "height": 35
        },
        "id": "YlA2hivUHwRL",
        "outputId": "e558621e-377e-4a2a-a3ac-c57ff33c10eb"
      },
      "execution_count": 9,
      "outputs": [
        {
          "output_type": "execute_result",
          "data": {
            "text/plain": [
              "'b'"
            ],
            "application/vnd.google.colaboratory.intrinsic+json": {
              "type": "string"
            }
          },
          "metadata": {},
          "execution_count": 9
        }
      ]
    },
    {
      "cell_type": "code",
      "source": [
        "#10. Write a code to reverse the list [10, 20, 30, 40, 50].\n",
        "#ans.\n",
        "list = [10, 20, 30, 40, 50]\n",
        "list.reverse()\n",
        "print(list)"
      ],
      "metadata": {
        "colab": {
          "base_uri": "https://localhost:8080/"
        },
        "id": "EfE-nS46IMGv",
        "outputId": "67a82dd9-0bf5-448f-c848-78c2643b803c"
      },
      "execution_count": 10,
      "outputs": [
        {
          "output_type": "stream",
          "name": "stdout",
          "text": [
            "[50, 40, 30, 20, 10]\n"
          ]
        }
      ]
    },
    {
      "cell_type": "code",
      "source": [
        "#11. Write a code to create a tuple with the elements 10, 20, 30 and print it.\n",
        "#ans.\n",
        "t = (10, 20, 30)\n",
        "print(t)"
      ],
      "metadata": {
        "colab": {
          "base_uri": "https://localhost:8080/"
        },
        "id": "FkgOhJSZIitY",
        "outputId": "52781fcf-53ee-4f75-8057-f3beb55807ee"
      },
      "execution_count": 11,
      "outputs": [
        {
          "output_type": "stream",
          "name": "stdout",
          "text": [
            "(10, 20, 30)\n"
          ]
        }
      ]
    },
    {
      "cell_type": "code",
      "source": [
        "#12. Write a code to access the first element of the tuple ('apple', 'banana', 'cherry').\n",
        "#ans.\n",
        "t = ('apple', 'banana', 'cherry')\n",
        "t[0]"
      ],
      "metadata": {
        "colab": {
          "base_uri": "https://localhost:8080/",
          "height": 35
        },
        "id": "6m-ROevHI1l9",
        "outputId": "117f57d0-7cc0-47d8-e344-a0aa270e9a87"
      },
      "execution_count": 13,
      "outputs": [
        {
          "output_type": "execute_result",
          "data": {
            "text/plain": [
              "'apple'"
            ],
            "application/vnd.google.colaboratory.intrinsic+json": {
              "type": "string"
            }
          },
          "metadata": {},
          "execution_count": 13
        }
      ]
    },
    {
      "cell_type": "code",
      "source": [
        "#13. Write a code to count how many times the number 2 appears in the tuple (1, 2, 3, 2, 4, 2).\n",
        "#ans.\n",
        "t = (1, 2, 3, 2, 4, 2)\n",
        "t.count(2)"
      ],
      "metadata": {
        "colab": {
          "base_uri": "https://localhost:8080/"
        },
        "id": "-jrG27wwJM-U",
        "outputId": "5b38973e-7588-4b25-ad1e-639d25438daa"
      },
      "execution_count": 14,
      "outputs": [
        {
          "output_type": "execute_result",
          "data": {
            "text/plain": [
              "3"
            ]
          },
          "metadata": {},
          "execution_count": 14
        }
      ]
    },
    {
      "cell_type": "code",
      "source": [
        "#14. Write a code to find the index of the element \"cat\" in the tuple ('dog', 'cat', 'rabbit').\n",
        "#ans.\n",
        "t = ('dog', 'cat', 'rabbit')\n",
        "t.index('cat')"
      ],
      "metadata": {
        "colab": {
          "base_uri": "https://localhost:8080/"
        },
        "id": "Gua1ApdSJurk",
        "outputId": "6ed203db-5c9f-44bd-fa3e-3427d11dec49"
      },
      "execution_count": 15,
      "outputs": [
        {
          "output_type": "execute_result",
          "data": {
            "text/plain": [
              "1"
            ]
          },
          "metadata": {},
          "execution_count": 15
        }
      ]
    },
    {
      "cell_type": "code",
      "source": [
        "#15. Write a code to check if the element \"banana\" is in the tuple ('apple', 'orange', 'banana').\n",
        "#ans.\n",
        "fruits = ('apple', 'orange', 'banana')\n",
        "if \"banana\" in fruits:\n",
        "  print(True)\n",
        "else:\n",
        "  print(False)"
      ],
      "metadata": {
        "colab": {
          "base_uri": "https://localhost:8080/"
        },
        "id": "aUOASvbZKQWV",
        "outputId": "4821606b-40de-4cb7-8628-5f2d546bff23"
      },
      "execution_count": 16,
      "outputs": [
        {
          "output_type": "stream",
          "name": "stdout",
          "text": [
            "True\n"
          ]
        }
      ]
    },
    {
      "cell_type": "code",
      "source": [
        "#16. Write a code to create a set with the elements 1, 2, 3, 4, 5 and print it.\n",
        "#ans.\n",
        "set = {1, 2, 3, 4, 5}\n",
        "print(set)"
      ],
      "metadata": {
        "colab": {
          "base_uri": "https://localhost:8080/"
        },
        "id": "1xjhS0gXK81a",
        "outputId": "e70a891d-6f86-4e7d-cbb8-ed9b20f0372e"
      },
      "execution_count": 18,
      "outputs": [
        {
          "output_type": "stream",
          "name": "stdout",
          "text": [
            "{1, 2, 3, 4, 5}\n"
          ]
        }
      ]
    },
    {
      "cell_type": "code",
      "source": [
        "#17. Write a code to add the element 6 to the set {1, 2, 3, 4}.\n",
        "#ans.\n",
        "set = {1, 2, 3, 4}\n",
        "set.add(6)\n",
        "set"
      ],
      "metadata": {
        "colab": {
          "base_uri": "https://localhost:8080/"
        },
        "id": "1vX1JZ7DLSgY",
        "outputId": "0e8e9308-4f7d-4667-d094-f1506fb9bbc0"
      },
      "execution_count": 24,
      "outputs": [
        {
          "output_type": "execute_result",
          "data": {
            "text/plain": [
              "{1, 2, 3, 4, 6}"
            ]
          },
          "metadata": {},
          "execution_count": 24
        }
      ]
    },
    {
      "cell_type": "code",
      "source": [
        "#18. Write a code to create a tuple with the elements 10, 20, 30 and print it.\n",
        "#ans.\n",
        "elements = (10, 20, 30)\n",
        "elements"
      ],
      "metadata": {
        "colab": {
          "base_uri": "https://localhost:8080/"
        },
        "id": "josYbk-8Lvao",
        "outputId": "5fd19705-1a41-4ad0-f2f3-5c0a9ddd16df"
      },
      "execution_count": 25,
      "outputs": [
        {
          "output_type": "execute_result",
          "data": {
            "text/plain": [
              "(10, 20, 30)"
            ]
          },
          "metadata": {},
          "execution_count": 25
        }
      ]
    },
    {
      "cell_type": "code",
      "source": [
        "#19. Write a code to access the first element of the tuple ('apple', 'banana', 'cherry').\n",
        "#ans.\n",
        "fruits = ('apple', 'banana', 'cherry')\n",
        "fruits[0]"
      ],
      "metadata": {
        "colab": {
          "base_uri": "https://localhost:8080/",
          "height": 35
        },
        "id": "M10h-GiZMG5t",
        "outputId": "12040317-2eb2-419e-f5f7-b86ac33f0766"
      },
      "execution_count": 26,
      "outputs": [
        {
          "output_type": "execute_result",
          "data": {
            "text/plain": [
              "'apple'"
            ],
            "application/vnd.google.colaboratory.intrinsic+json": {
              "type": "string"
            }
          },
          "metadata": {},
          "execution_count": 26
        }
      ]
    },
    {
      "cell_type": "code",
      "source": [
        "#20. Write a code to count how many times the number 2 appears in the tuple (1, 2, 3, 2, 4, 2).\n",
        "#ans.\n",
        "numbers = (1, 2, 3, 2, 4, 2)\n",
        "numbers.count(2)"
      ],
      "metadata": {
        "colab": {
          "base_uri": "https://localhost:8080/"
        },
        "id": "HzgeBfyKMXeC",
        "outputId": "3f9af39a-3408-4dfb-987c-934fcb8ca97b"
      },
      "execution_count": 27,
      "outputs": [
        {
          "output_type": "execute_result",
          "data": {
            "text/plain": [
              "3"
            ]
          },
          "metadata": {},
          "execution_count": 27
        }
      ]
    },
    {
      "cell_type": "code",
      "source": [
        "#21. Write a code to find the index of the element \"cat\" in the tuple ('dog', 'cat', 'rabbit').\n",
        "#ans.\n",
        "t = ('dog', 'cat', 'rabbit')\n",
        "t.index('cat')"
      ],
      "metadata": {
        "colab": {
          "base_uri": "https://localhost:8080/"
        },
        "id": "nE1qtOjzMwQE",
        "outputId": "26c50559-37a9-4dc7-ffde-9dcf9cd3bf2c"
      },
      "execution_count": 28,
      "outputs": [
        {
          "output_type": "execute_result",
          "data": {
            "text/plain": [
              "1"
            ]
          },
          "metadata": {},
          "execution_count": 28
        }
      ]
    },
    {
      "cell_type": "code",
      "source": [
        "#22. Write a code to check if the element \"banana\" is in the tuple ('apple', 'orange', 'banana').\n",
        "#ans.\n",
        "fruits = ('apple', 'orange', 'banana')\n",
        "if \"banana\" in fruits:\n",
        "  print(True)\n",
        "else:\n",
        "  print(False)"
      ],
      "metadata": {
        "colab": {
          "base_uri": "https://localhost:8080/"
        },
        "id": "_eA0YRNnNO3T",
        "outputId": "90fd6394-b597-4092-f8d5-a05dc5fabe13"
      },
      "execution_count": 30,
      "outputs": [
        {
          "output_type": "stream",
          "name": "stdout",
          "text": [
            "True\n"
          ]
        }
      ]
    },
    {
      "cell_type": "code",
      "source": [
        "#23. Write a code to create a set with the elements 1, 2, 3, 4, 5 and print it.\n",
        "#ans.\n",
        "set = {1, 2, 3, 4, 5}\n",
        "print(set)"
      ],
      "metadata": {
        "colab": {
          "base_uri": "https://localhost:8080/"
        },
        "id": "wFNqDD8WNnTl",
        "outputId": "10b10f21-5cc8-4cbf-ecb6-668858a2eb7e"
      },
      "execution_count": 31,
      "outputs": [
        {
          "output_type": "stream",
          "name": "stdout",
          "text": [
            "{1, 2, 3, 4, 5}\n"
          ]
        }
      ]
    },
    {
      "cell_type": "code",
      "source": [
        "#24. Write a code to add the element 6 to the set {1, 2, 3, 4}.\n",
        "#ans.\n",
        "set = {1, 2, 3, 4}\n",
        "set.add(6)\n",
        "print(set)"
      ],
      "metadata": {
        "colab": {
          "base_uri": "https://localhost:8080/"
        },
        "id": "3j-bqAx8OBGm",
        "outputId": "ad641931-0011-4e09-f315-82b765519151"
      },
      "execution_count": 32,
      "outputs": [
        {
          "output_type": "stream",
          "name": "stdout",
          "text": [
            "{1, 2, 3, 4, 6}\n"
          ]
        }
      ]
    }
  ]
}